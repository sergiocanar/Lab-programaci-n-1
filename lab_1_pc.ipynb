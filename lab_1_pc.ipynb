{
  "nbformat": 4,
  "nbformat_minor": 0,
  "metadata": {
    "colab": {
      "provenance": [],
      "include_colab_link": true
    },
    "kernelspec": {
      "name": "python3",
      "display_name": "Python 3"
    },
    "language_info": {
      "name": "python"
    }
  },
  "cells": [
    {
      "cell_type": "markdown",
      "metadata": {
        "id": "view-in-github",
        "colab_type": "text"
      },
      "source": [
        "<a href=\"https://colab.research.google.com/github/sergiocanar/Lab-programaci-n-1/blob/Ca%C3%B1ar/lab_1_pc.ipynb\" target=\"_parent\"><img src=\"https://colab.research.google.com/assets/colab-badge.svg\" alt=\"Open In Colab\"/></a>"
      ]
    },
    {
      "cell_type": "code",
      "execution_count": null,
      "metadata": {
        "colab": {
          "base_uri": "https://localhost:8080/"
        },
        "id": "hZa9iCIkmTzK",
        "outputId": "b2f7208b-e375-4ae0-af45-80088810c49f"
      },
      "outputs": [
        {
          "output_type": "stream",
          "name": "stdout",
          "text": [
            "Esto es muy lento\n"
          ]
        }
      ],
      "source": [
        "print('Esto es muy lento')"
      ]
    },
    {
      "cell_type": "code",
      "source": [
        "print('Esto fue editado por Sergio Cañar')"
      ],
      "metadata": {
        "colab": {
          "base_uri": "https://localhost:8080/"
        },
        "id": "WqZkejirphDh",
        "outputId": "e357181d-47c5-47cf-8339-0c2dff292f95"
      },
      "execution_count": null,
      "outputs": [
        {
          "output_type": "stream",
          "name": "stdout",
          "text": [
            "Esto fue editado por Sergio Cañar\n"
          ]
        }
      ]
    }
  ]
}