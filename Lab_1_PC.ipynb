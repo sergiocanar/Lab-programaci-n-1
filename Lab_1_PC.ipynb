{
  "nbformat": 4,
  "nbformat_minor": 0,
  "metadata": {
    "colab": {
      "provenance": [],
      "authorship_tag": "ABX9TyOFdObjJaZ2AYhHsh6GdSC4",
      "include_colab_link": true
    },
    "kernelspec": {
      "name": "python3",
      "display_name": "Python 3"
    },
    "language_info": {
      "name": "python"
    }
  },
  "cells": [
    {
      "cell_type": "markdown",
      "metadata": {
        "id": "view-in-github",
        "colab_type": "text"
      },
      "source": [
        "<a href=\"https://colab.research.google.com/github/sergiocanar/Lab-programaci-n-1/blob/Rojas/Lab_1_PC.ipynb\" target=\"_parent\"><img src=\"https://colab.research.google.com/assets/colab-badge.svg\" alt=\"Open In Colab\"/></a>"
      ]
    },
    {
      "cell_type": "code",
      "execution_count": 3,
      "metadata": {
        "colab": {
          "base_uri": "https://localhost:8080/"
        },
        "id": "hZa9iCIkmTzK",
        "outputId": "b2f7208b-e375-4ae0-af45-80088810c49f"
      },
      "outputs": [
        {
          "output_type": "stream",
          "name": "stdout",
          "text": [
            "Esto es muy lento\n"
          ]
        }
      ],
      "source": [
        "print('Esto es muy lento')"
      ]
    },
    {
      "cell_type": "code",
      "source": [
        "print('No estoy entendiendo')"
      ],
      "metadata": {
        "colab": {
          "base_uri": "https://localhost:8080/"
        },
        "id": "hZ-4Te49pfXL",
        "outputId": "b2ca4ade-61ae-4fa3-d933-013d067d7b42"
      },
      "execution_count": 4,
      "outputs": [
        {
          "output_type": "stream",
          "name": "stdout",
          "text": [
            "No estoy entendiendo\n"
          ]
        }
      ]
    }
  ]
}