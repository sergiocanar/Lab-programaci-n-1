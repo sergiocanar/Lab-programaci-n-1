{
  "nbformat": 4,
  "nbformat_minor": 0,
  "metadata": {
    "colab": {
      "provenance": []
    },
    "kernelspec": {
      "name": "python3",
      "display_name": "Python 3"
    },
    "language_info": {
      "name": "python"
    }
  },
  "cells": [
    {
      "cell_type": "code",
      "execution_count": 3,
      "metadata": {
        "colab": {
          "base_uri": "https://localhost:8080/"
        },
        "id": "hZa9iCIkmTzK",
        "outputId": "b2f7208b-e375-4ae0-af45-80088810c49f"
      },
      "outputs": [
        {
          "output_type": "stream",
          "name": "stdout",
          "text": [
            "Esto es muy lento\n"
          ]
        }
      ],
      "source": [
        "print('Esto es muy lento')"
      ]
    }
  ]
}